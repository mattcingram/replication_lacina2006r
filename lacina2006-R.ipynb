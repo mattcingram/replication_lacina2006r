{
 "cells": [
  {
   "cell_type": "markdown",
   "metadata": {},
   "source": [
    "# Replication with R from Jupyter\n",
    "### Matt Ingram\n",
    "### University at Albany, SUNY\n",
    "# Replication 1: Lacina (2006)\n",
    "### __Computing Tools__: R and markdown in JupyterHub\n",
    "### __Subject fields__: political science, international relations, civil war, political violence, conflict studies, peace science\n",
    "### __Methods topics__: data management, descriptive statistics, histograms, OLS"
   ]
  },
  {
   "cell_type": "markdown",
   "metadata": {},
   "source": [
    "# Introduction"
   ]
  },
  {
   "cell_type": "markdown",
   "metadata": {},
   "source": [
    "This notebook documents a replication of Lacina (2006) in R from within the Jypyter platform. \n",
    "\n",
    "R can run natively in Jupyter using the IRkernel. That is, in contrast to using Stata, where a notebook opens with Python running natively and Stata must be called within each cell using Stata, users can run a notebook like this oen with R running natively. R does not need to be called within each cell.\n",
    "\n",
    "For more information on IRkernel, see: https://github.com/IRkernel/IRkernel\n",
    "\n",
    "I am using JupyterHub and JupyterLab. JupyterHub is a server-based version of Jupyter that allows central installation of software and multiple users. In academic settings, the advantages are:\n",
    "- shared resources to avoid duplication and enhance collaboration\n",
    "- secure sign-on with instiutional IDs and passwords\n",
    "- remote computing\n",
    "- extensions to use JupyterHub as a learning management system, including assigmment management\n",
    "\n",
    "JupyterLab is an interface that mimics features of an integrated development environment (IDE), allowing multiple notebooks to be opened at once, side by side, while at the same time being able to view directory, pull-down menus, etc.\n",
    "\n",
    "For more information on Jupyter, see: http://jupyter.org/\n",
    "\n",
    "For more information on JupyterHub, see: https://github.com/jupyterhub/jupyterhub\n",
    "\n",
    "For more information on JupyterLab, see: https://github.com/jupyterlab/jupyterlab"
   ]
  },
  {
   "cell_type": "markdown",
   "metadata": {},
   "source": [
    "# Set Environment"
   ]
  },
  {
   "cell_type": "markdown",
   "metadata": {},
   "source": [
    "## Set options"
   ]
  },
  {
   "cell_type": "code",
   "execution_count": 1,
   "metadata": {},
   "outputs": [],
   "source": [
    "# Change plot size to 4 x 4\n",
    "options(repr.plot.width=4, repr.plot.height=4)"
   ]
  },
  {
   "cell_type": "markdown",
   "metadata": {},
   "source": [
    "## Import R packages"
   ]
  },
  {
   "cell_type": "code",
   "execution_count": 2,
   "metadata": {},
   "outputs": [],
   "source": [
    "library(pacman)\n",
    "p_load(ggplot2, data.table, xtable, stargazer, repr)"
   ]
  },
  {
   "cell_type": "markdown",
   "metadata": {},
   "source": [
    "# Set Working Directory"
   ]
  },
  {
   "cell_type": "code",
   "execution_count": 3,
   "metadata": {},
   "outputs": [
    {
     "data": {
      "text/html": [
       "'/home1/s/m/mi122167/OpenStats/replication1lacina'"
      ],
      "text/latex": [
       "'/home1/s/m/mi122167/OpenStats/replication1lacina'"
      ],
      "text/markdown": [
       "'/home1/s/m/mi122167/OpenStats/replication1lacina'"
      ],
      "text/plain": [
       "[1] \"/home1/s/m/mi122167/OpenStats/replication1lacina\""
      ]
     },
     "metadata": {},
     "output_type": "display_data"
    }
   ],
   "source": [
    "#getwd()\n",
    "#path <- '/home1/s/m/mi122167/OpenStats/replication1lacina'\n",
    "#setwd(path)"
   ]
  },
  {
   "cell_type": "markdown",
   "metadata": {},
   "source": [
    "## Create sub-directories"
   ]
  },
  {
   "cell_type": "code",
   "execution_count": 4,
   "metadata": {},
   "outputs": [
    {
     "name": "stderr",
     "output_type": "stream",
     "text": [
      "Warning message in dir.create(\"./data\", showWarnings = TRUE):\n",
      "“'./data' already exists”Warning message in dir.create(\"./figures\", showWarnings = TRUE):\n",
      "“'./figures' already exists”Warning message in dir.create(\"./output\", showWarnings = TRUE):\n",
      "“'./output' already exists”Warning message in dir.create(\"./tables\", showWarnings = TRUE):\n",
      "“'./tables' already exists”"
     ]
    }
   ],
   "source": [
    "# dir.create checks whether subdirectories exist; if missing, creates them\n",
    "dir.create(\"./data\",showWarnings = TRUE)\n",
    "dir.create(\"./figures\",showWarnings = TRUE)\n",
    "dir.create(\"./output\",showWarnings = TRUE)\n",
    "dir.create(\"./tables\",showWarnings = TRUE)"
   ]
  },
  {
   "cell_type": "markdown",
   "metadata": {},
   "source": [
    "# Load Data"
   ]
  },
  {
   "cell_type": "code",
   "execution_count": 5,
   "metadata": {},
   "outputs": [
    {
     "data": {
      "text/html": [
       "<table>\n",
       "<thead><tr><th scope=col>ID</th><th scope=col>conflict_name</th><th scope=col>ccode</th></tr></thead>\n",
       "<tbody>\n",
       "\t<tr><td>1990                   </td><td>India (Mizoram)        </td><td>750                    </td></tr>\n",
       "\t<tr><td>1500                   </td><td>Argentina 1955         </td><td>160                    </td></tr>\n",
       "\t<tr><td>2770                   </td><td>Romania 1989           </td><td>360                    </td></tr>\n",
       "\t<tr><td>2970                   </td><td>Croatia 1992-5         </td><td>344                    </td></tr>\n",
       "\t<tr><td>3000                   </td><td>Georgia (South Ossetia)</td><td>372                    </td></tr>\n",
       "</tbody>\n",
       "</table>\n"
      ],
      "text/latex": [
       "\\begin{tabular}{r|lll}\n",
       " ID & conflict\\_name & ccode\\\\\n",
       "\\hline\n",
       "\t 1990                    & India (Mizoram)         & 750                    \\\\\n",
       "\t 1500                    & Argentina 1955          & 160                    \\\\\n",
       "\t 2770                    & Romania 1989            & 360                    \\\\\n",
       "\t 2970                    & Croatia 1992-5          & 344                    \\\\\n",
       "\t 3000                    & Georgia (South Ossetia) & 372                    \\\\\n",
       "\\end{tabular}\n"
      ],
      "text/markdown": [
       "\n",
       "ID | conflict_name | ccode | \n",
       "|---|---|---|---|---|\n",
       "| 1990                    | India (Mizoram)         | 750                     | \n",
       "| 1500                    | Argentina 1955          | 160                     | \n",
       "| 2770                    | Romania 1989            | 360                     | \n",
       "| 2970                    | Croatia 1992-5          | 344                     | \n",
       "| 3000                    | Georgia (South Ossetia) | 372                     | \n",
       "\n",
       "\n"
      ],
      "text/plain": [
       "  ID   conflict_name           ccode\n",
       "1 1990 India (Mizoram)         750  \n",
       "2 1500 Argentina 1955          160  \n",
       "3 2770 Romania 1989            360  \n",
       "4 2970 Croatia 1992-5          344  \n",
       "5 3000 Georgia (South Ossetia) 372  "
      ]
     },
     "metadata": {},
     "output_type": "display_data"
    }
   ],
   "source": [
    "data <- fread('http://mattingram.net/teaching/workshops/introR/materials/Lacina_JCR_2006_replication.csv')\n",
    "data[1:5,1:3]"
   ]
  },
  {
   "cell_type": "markdown",
   "metadata": {},
   "source": [
    "# Summary Statistics"
   ]
  },
  {
   "cell_type": "code",
   "execution_count": 6,
   "metadata": {},
   "outputs": [
    {
     "data": {
      "text/plain": [
       " battledeadbest        lnbdb          lnduration         lnpop      \n",
       " Min.   :    900   Min.   : 6.802   Min.   :0.0000   Min.   :13.32  \n",
       " 1st Qu.:   3197   1st Qu.: 8.070   1st Qu.:0.6931   1st Qu.:15.53  \n",
       " Median :   9525   Median : 9.160   Median :1.3863   Median :16.64  \n",
       " Mean   :  62677   Mean   : 9.362   Mean   :1.5572   Mean   :16.76  \n",
       " 3rd Qu.:  40475   3rd Qu.:10.608   3rd Qu.:2.4632   3rd Qu.:17.77  \n",
       " Max.   :2097705   Max.   :14.556   Max.   :4.0073   Max.   :20.65  \n",
       "                                                                    \n",
       "   lnmilqual           lngdp             cw           lnmountain   \n",
       " Min.   : 0.9243   Min.   :3.912   Min.   :0.0000   Min.   :0.000  \n",
       " 1st Qu.: 7.0397   1st Qu.:6.341   1st Qu.:0.0000   1st Qu.:2.116  \n",
       " Median : 8.0848   Median :7.075   Median :1.0000   Median :2.632  \n",
       " Mean   : 7.9496   Mean   :7.029   Mean   :0.6667   Mean   :2.688  \n",
       " 3rd Qu.: 8.7413   3rd Qu.:7.755   3rd Qu.:1.0000   3rd Qu.:3.646  \n",
       " Max.   :11.1214   Max.   :9.052   Max.   :1.0000   Max.   :4.407  \n",
       " NA's   :2         NA's   :7                                       \n",
       "     democ         ethnicpolar        relpolar     \n",
       " Min.   :0.0000   Min.   :0.0000   Min.   :0.0000  \n",
       " 1st Qu.:0.0000   1st Qu.:1.0000   1st Qu.:1.0000  \n",
       " Median :0.0000   Median :1.0000   Median :1.0000  \n",
       " Mean   :0.1754   Mean   :0.7807   Mean   :0.7807  \n",
       " 3rd Qu.:0.0000   3rd Qu.:1.0000   3rd Qu.:1.0000  \n",
       " Max.   :1.0000   Max.   :1.0000   Max.   :1.0000  \n",
       "                                                   "
      ]
     },
     "metadata": {},
     "output_type": "display_data"
    }
   ],
   "source": [
    "data <- subset(data, select = c('battledeadbest', 'lnbdb', 'lnduration', 'lnpop', 'lnmilqual', 'lngdp', 'cw', \n",
    "             'lnmountain', 'democ', 'ethnicpolar', 'relpolar'))\n",
    "summary(data)"
   ]
  },
  {
   "cell_type": "markdown",
   "metadata": {},
   "source": [
    "# Histograms of outcome of interest"
   ]
  },
  {
   "cell_type": "code",
   "execution_count": 7,
   "metadata": {},
   "outputs": [
    {
     "data": {
      "image/png": "[encoded data removed]",
      "text/plain": [
       "Plot with title “Histogram of data$battledeadbest”"
      ]
     },
     "metadata": {},
     "output_type": "display_data"
    }
   ],
   "source": [
    "hist(data$battledeadbest, 100)"
   ]
  },
  {
   "cell_type": "code",
   "execution_count": 8,
   "metadata": {},
   "outputs": [
    {
     "data": {
      "image/png": "[encoded data removed]",
      "text/plain": [
       "Plot with title “Histogram of data$lnbdb”"
      ]
     },
     "metadata": {},
     "output_type": "display_data"
    }
   ],
   "source": [
    "hist(data$lnbdb)"
   ]
  },
  {
   "cell_type": "code",
   "execution_count": 9,
   "metadata": {},
   "outputs": [
    {
     "data": {},
     "metadata": {},
     "output_type": "display_data"
    },
    {
     "data": {},
     "metadata": {},
     "output_type": "display_data"
    },
    {
     "data": {
      "text/html": [
       "<strong>png:</strong> 2"
      ],
      "text/latex": [
       "\\textbf{png:} 2"
      ],
      "text/markdown": [
       "**png:** 2"
      ],
      "text/plain": [
       "png \n",
       "  2 "
      ]
     },
     "metadata": {},
     "output_type": "display_data"
    },
    {
     "data": {
      "image/png": "[encoded data removed]",
      "text/plain": [
       "plot without title"
      ]
     },
     "metadata": {},
     "output_type": "display_data"
    }
   ],
   "source": [
    "hist <- ggplot(data, aes(lnbdb))\n",
    "hist + geom_histogram(binwidth=1) +\n",
    "    geom_density(aes(y = ..count..)) +  \n",
    "    # use aes(y=..density..)) + geom_density() +  if want density\n",
    "    theme_minimal()\n",
    "tiff(\"./figures/figure1.tif\", width=4, height=4, units=\"in\", res=300)\n",
    "hist + geom_histogram(binwidth=1) +\n",
    "    geom_density(aes(y = ..count..)) +  \n",
    "    # use aes(y=..density..)) + geom_density() +  if want density\n",
    "    theme_minimal()\n",
    "dev.off()"
   ]
  },
  {
   "cell_type": "markdown",
   "metadata": {},
   "source": [
    "# Linear Regression"
   ]
  },
  {
   "cell_type": "markdown",
   "metadata": {},
   "source": [
    "This is Table 2 from original paper.\n",
    "\n",
    "Model takes the form of $y = \\beta_0 + \\beta_1X_1 + \\beta_2X_2 + \\ldots + \\epsilon$.\n",
    "\n",
    "In matrix notation, $y = X\\beta + \\epsilon$, where y is a vector containing the outcome of interest (lnbdb), $ X $ is a matrix of predictors (model matrix), and $\\epsilon$ is the error term."
   ]
  },
  {
   "cell_type": "code",
   "execution_count": 10,
   "metadata": {},
   "outputs": [
    {
     "name": "stdout",
     "output_type": "stream",
     "text": [
      "\n",
      "Table 2\n",
      "=================================================================\n",
      "                                 Dependent variable:             \n",
      "                    ---------------------------------------------\n",
      "                                        lnbdb                    \n",
      "                             (1)                    (2)          \n",
      "-----------------------------------------------------------------\n",
      "lnduration                0.807***               0.857***        \n",
      "                           (0.119)                (0.111)        \n",
      "                                                                 \n",
      "lnpop                      -0.044                                \n",
      "                           (0.081)                               \n",
      "                                                                 \n",
      "lnmilqual                   0.101                                \n",
      "                           (0.120)                               \n",
      "                                                                 \n",
      "lngdp                      -0.191                                \n",
      "                           (0.175)                               \n",
      "                                                                 \n",
      "cw                         0.667**                0.591**        \n",
      "                           (0.313)                (0.269)        \n",
      "                                                                 \n",
      "lnmountain                  0.101                                \n",
      "                           (0.120)                               \n",
      "                                                                 \n",
      "democ                     -0.871**               -0.912***       \n",
      "                           (0.358)                (0.326)        \n",
      "                                                                 \n",
      "ethnicpolar               -0.980***              -1.028***       \n",
      "                           (0.339)                (0.303)        \n",
      "                                                                 \n",
      "relpolar                    0.119                                \n",
      "                           (0.323)                               \n",
      "                                                                 \n",
      "Constant                  9.543***               8.596***        \n",
      "                           (1.975)                (0.347)        \n",
      "                                                                 \n",
      "-----------------------------------------------------------------\n",
      "Observations                 105                    114          \n",
      "R2                          0.449                  0.447         \n",
      "Adjusted R2                 0.396                  0.427         \n",
      "Residual Std. Error    1.324 (df = 95)       1.296 (df = 109)    \n",
      "F Statistic         8.589*** (df = 9; 95) 22.026*** (df = 4; 109)\n",
      "=================================================================\n",
      "Note:                                 *p<0.1; **p<0.05; ***p<0.01\n"
     ]
    }
   ],
   "source": [
    "m1 <- lm(lnbdb ~ lnduration + lnpop + lnmilqual + lngdp + cw + lnmountain + democ + ethnicpolar + relpolar, data=data)\n",
    "m2 <- lm(lnbdb ~ lnduration + cw + democ + ethnicpolar, data=data)\n",
    "stargazer(m1, m2, title=\"Table 2\", type=\"text\")"
   ]
  },
  {
   "cell_type": "code",
   "execution_count": null,
   "metadata": {},
   "outputs": [],
   "source": []
  }
 ],
 "metadata": {
  "kernelspec": {
   "display_name": "R",
   "language": "R",
   "name": "ir"
  },
  "language_info": {
   "codemirror_mode": "r",
   "file_extension": ".r",
   "mimetype": "text/x-r-source",
   "name": "R",
   "pygments_lexer": "r",
   "version": "3.5.0"
  }
 },
 "nbformat": 4,
 "nbformat_minor": 2
}
